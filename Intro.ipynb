{
  "nbformat": 4,
  "nbformat_minor": 0,
  "metadata": {
    "colab": {
      "name": "Intro.ipynb",
      "provenance": [],
      "authorship_tag": "ABX9TyPMWAq0wbeKWnohQynvX0Rq",
      "include_colab_link": true
    },
    "kernelspec": {
      "name": "python3",
      "display_name": "Python 3"
    },
    "language_info": {
      "name": "python"
    }
  },
  "cells": [
    {
      "cell_type": "markdown",
      "metadata": {
        "id": "view-in-github",
        "colab_type": "text"
      },
      "source": [
        "<a href=\"https://colab.research.google.com/github/WilliamShengYangHuang/AALU_Coding/blob/main/Intro.ipynb\" target=\"_parent\"><img src=\"https://colab.research.google.com/assets/colab-badge.svg\" alt=\"Open In Colab\"/></a>"
      ]
    },
    {
      "cell_type": "markdown",
      "source": [
        "## Packages to be Used"
      ],
      "metadata": {
        "id": "RzQPbAuMzsti"
      }
    },
    {
      "cell_type": "markdown",
      "source": [
        "1. Platform"
      ],
      "metadata": {
        "id": "YSN_stTcyzDa"
      }
    },
    {
      "cell_type": "code",
      "execution_count": null,
      "metadata": {
        "cellView": "form",
        "id": "DHyytRhyuxmH"
      },
      "outputs": [],
      "source": [
        "#@title\n",
        "google.colab # To work with files on Google Collaboratory(Colab)"
      ]
    },
    {
      "cell_type": "markdown",
      "source": [
        "2. Data and Math"
      ],
      "metadata": {
        "id": "nK-bhDuOy7Il"
      }
    },
    {
      "cell_type": "code",
      "source": [
        "#@title\n",
        "numpy # Mathemetical(general, vertors, matrices/arrays/tensors...) calculation\n",
        "scipy # Scientific computing\n",
        "pandas # Data processing\n",
        "geopandas # Geo-spatial data processing"
      ],
      "metadata": {
        "cellView": "form",
        "id": "GgqpjZ3yy6fK"
      },
      "execution_count": null,
      "outputs": []
    },
    {
      "cell_type": "markdown",
      "source": [
        "3. Image Processing and Data Visualisation"
      ],
      "metadata": {
        "id": "QI7Z5tKEzJva"
      }
    },
    {
      "cell_type": "code",
      "source": [
        "#@title\n",
        "skimage # Image processing\n",
        "matplitlib # Usual plotting and data visialisation\n",
        "cv2 # OpenCV\n",
        "PIL # Pillow\n",
        "bokeh # ineractive visualisation"
      ],
      "metadata": {
        "cellView": "form",
        "id": "suHrqpkAzIPx"
      },
      "execution_count": null,
      "outputs": []
    },
    {
      "cell_type": "markdown",
      "source": [
        "4. Machine Learning (ML)"
      ],
      "metadata": {
        "id": "SomunmOUzBmY"
      }
    },
    {
      "cell_type": "code",
      "source": [
        "#@title\n",
        "sklearn # Machine learning\n",
        "tensorflow # Deep learning and computer vision\n",
        "tensorflow.keras # high level API for tensorflow"
      ],
      "metadata": {
        "cellView": "form",
        "id": "PnIvEKM8zAzk"
      },
      "execution_count": null,
      "outputs": []
    },
    {
      "cell_type": "markdown",
      "source": [
        "5. GIS + ML"
      ],
      "metadata": {
        "id": "snlnXtrIzTTf"
      }
    },
    {
      "cell_type": "code",
      "source": [
        "#@title\n",
        "ArcGIS # ArcGIS API for Python"
      ],
      "metadata": {
        "cellView": "form",
        "id": "pwR50t1jzScp"
      },
      "execution_count": null,
      "outputs": []
    },
    {
      "cell_type": "markdown",
      "source": [
        "## Typical Workflow to Work on Colab\n",
        "\n",
        "1.   Setup Google Drive services (Download Google Drive for desktop: https://support.google.com/drive/answer/7329379)\n",
        "2.   Create or load notebook\n",
        "3.   Set notebook name (or make own copy if using shared notbook)\n",
        "4.   Set runtime type\n",
        "5.   Connect to 'hosted runtime'\n",
        "6.   Code\n",
        "7.   Run Scripts and debug (Stack Overflow: https://stackoverflow.com/questions/tagged/python)\n",
        "8.   Save notebook in Google Drive and/or on GitHub\n",
        "\n",
        "\n",
        "\n",
        "\n",
        "\n",
        "\n"
      ],
      "metadata": {
        "id": "0G7n8q1r1Ku0"
      }
    }
  ]
}